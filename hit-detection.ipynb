{
 "cells": [
  {
   "cell_type": "code",
   "execution_count": 112,
   "metadata": {},
   "outputs": [],
   "source": [
    "from credentials import my_SteamID, my_APIkey\n",
    "import numpy as np\n",
    "import pandas as pd\n",
    "import urllib\n",
    "import json"
   ]
  },
  {
   "cell_type": "code",
   "execution_count": 138,
   "metadata": {},
   "outputs": [],
   "source": [
    "\n",
    "\n",
    "def get_friend_IDs(steamid, APIkey):\n",
    "    getList_URL = f\"http://api.steampowered.com/ISteamUser/GetFriendList/v0001/?key={APIkey}&steamid={steamid}&relationship=friend\"\n",
    "    file = urllib.request.urlopen(getList_URL)\n",
    "    content = file.read().decode('utf-8')\n",
    "    friendlist = json.loads(content)\n",
    "    friendlist = pd.DataFrame(friendlist[\"friendslist\"][\"friends\"])\n",
    "    return friendlist[\"steamid\"]\n",
    "\n",
    "def get_friend_names(friend_IDs, APIkey):\n",
    "    keys=[\"steamid\", \"personaname\"]\n",
    "    out=[]\n",
    "    for id in friend_IDs:\n",
    "        getFriend_URL = f\"http://api.steampowered.com/ISteamUser/GetPlayerSummaries/v0002/?key={APIkey}&steamids={id}\"\n",
    "        file = urllib.request.urlopen(getFriend_URL)\n",
    "        content = file.read().decode('utf-8')\n",
    "        friendstatus = json.loads(content)\n",
    "        try:\n",
    "            friendstatus = friendstatus[\"response\"][\"players\"][0]\n",
    "            out.append([friendstatus.get(key) for key in keys])\n",
    "        except:\n",
    "            continue\n",
    "    return pd.DataFrame(out, columns=[\"steamid\", \"steamname\"]).sort_values(\"steamname\")\n",
    "\n",
    "def fill_empty_ids(favs, friend_names):\n",
    "    favs = pd.merge(favs, friend_names, on=\"steamname\", suffixes=(\"\",\"_2\"))\n",
    "    favs[\"steamid\"]= favs[\"steamid_2\"]\n",
    "    favs.drop(\"steamid_2\", axis=1, inplace=True)\n",
    "    favs.to_csv(\"my_favorites.csv\", sep=\";\", index=False)\n",
    "    return favs\n",
    "\n",
    "def check_fav_status(favs, APIkey):\n",
    "    notify={}\n",
    "    keys=[\"personaname\", \"steamid\", \"gameextrainfo\"]\n",
    "    for n in range(favs.shape[0]):\n",
    "        id= favs.iloc[n][\"steamid\"]\n",
    "        games= [x.strip() for x in favs.iloc[n][\"games\"].split(\",\")]\n",
    "        getFriend_URL = f\"http://api.steampowered.com/ISteamUser/GetPlayerSummaries/v0002/?key={APIkey}&steamids={id}\"\n",
    "        file = urllib.request.urlopen(getFriend_URL)\n",
    "        content = file.read().decode('utf-8')\n",
    "        friendstatus = json.loads(content)\n",
    "        try:\n",
    "            friendstatus = friendstatus[\"response\"][\"players\"][0]\n",
    "            name = friendstatus[\"personaname\"]\n",
    "            try:\n",
    "                game = friendstatus[\"gameextrainfo\"]\n",
    "                if game in games:\n",
    "                    notify[name] = game\n",
    "            except: \n",
    "                notify[name] = \"\"\n",
    "        except:\n",
    "            continue\n",
    "    return notify\n",
    "\n",
    "\n",
    "def check_for_change(hits, notify):\n",
    "    send = False\n",
    "    for entry in hits.keys():\n",
    "        if notify[entry] != hits[entry]:\n",
    "            notify[entry] = hits[entry]\n",
    "            if notify[entry] != \"\":\n",
    "                send = True\n",
    "    return notify, send\n",
    "\n",
    "\n",
    "\n"
   ]
  },
  {
   "cell_type": "code",
   "execution_count": 132,
   "metadata": {},
   "outputs": [],
   "source": [
    "# use credentials to get steamID of entire friendlist\n",
    "my_friend_IDs = get_friend_IDs(my_SteamID, my_APIkey)\n",
    "\n",
    "# look up the steam names for all IDs in friendlist\n",
    "my_friend_names = get_friend_names(my_friend_IDs, my_APIkey)\n",
    "\n",
    "#load table of favorites\n",
    "my_favs = pd.read_csv(\"my_favorites.csv\", delimiter=\";\")\n",
    "\n",
    "# fill empty IDs in favorites\n",
    "my_favs = fill_empty_ids(my_favs, my_friend_names)"
   ]
  },
  {
   "cell_type": "code",
   "execution_count": 131,
   "metadata": {},
   "outputs": [
    {
     "name": "stdout",
     "output_type": "stream",
     "text": [
      "Pail ist nicht online\n",
      "Smallboy_Slin ist nicht online\n",
      "[WC] Scott Sterling spielt Sands of Salzaar\n"
     ]
    },
    {
     "data": {
      "text/plain": [
       "{'Pail': '', 'Smallboy_Slin': '', '[WC] Scott Sterling': 'Sands of Salzaar'}"
      ]
     },
     "execution_count": 131,
     "metadata": {},
     "output_type": "execute_result"
    }
   ],
   "source": [
    "my_hits = check_fav_status(my_favs, my_APIkey)\n",
    "my_hits"
   ]
  },
  {
   "cell_type": "code",
   "execution_count": null,
   "metadata": {},
   "outputs": [
    {
     "data": {
      "text/plain": [
       "{'Pail': '', 'Smallboy_Slin': '', '[WC] Scott Sterling': 'Sands of Salzaar'}"
      ]
     },
     "execution_count": 104,
     "metadata": {},
     "output_type": "execute_result"
    }
   ],
   "source": [
    "# check if entries in notify are the same as in current_hits\n",
    "# if not, replace it and return true\n",
    "my_notify"
   ]
  },
  {
   "cell_type": "code",
   "execution_count": null,
   "metadata": {},
   "outputs": [
    {
     "name": "stdout",
     "output_type": "stream",
     "text": [
      "{'Pail': 'Warhammer: Vermintide 2', 'Smallboy_Slin': '', '[WC] Scott Sterling': 'Sands of Salzaar'}\n",
      "False\n"
     ]
    }
   ],
   "source": [
    "\n"
   ]
  },
  {
   "cell_type": "code",
   "execution_count": 143,
   "metadata": {},
   "outputs": [
    {
     "name": "stdout",
     "output_type": "stream",
     "text": [
      "Pail is playing Warhammer: Vermintide 2\n",
      "[WC] Scott Sterling is playing Sands of Salzaar\n",
      ".\n",
      ".\n",
      ".\n",
      ".\n",
      ".\n",
      "Pail is playing Warhammer: Vermintide 2\n",
      "[WC] Scott Sterling is playing Sands of Salzaar\n",
      ".\n",
      ".\n"
     ]
    },
    {
     "ename": "KeyboardInterrupt",
     "evalue": "",
     "output_type": "error",
     "traceback": [
      "\u001b[1;31m---------------------------------------------------------------------------\u001b[0m",
      "\u001b[1;31mKeyboardInterrupt\u001b[0m                         Traceback (most recent call last)",
      "Cell \u001b[1;32mIn[143], line 9\u001b[0m\n\u001b[0;32m      7\u001b[0m x\u001b[39m=\u001b[39m\u001b[39m0\u001b[39m\n\u001b[0;32m      8\u001b[0m \u001b[39mwhile\u001b[39;00m x\u001b[39m<\u001b[39m\u001b[39m100\u001b[39m:\n\u001b[1;32m----> 9\u001b[0m     my_hits \u001b[39m=\u001b[39m check_fav_status(my_favs, my_APIkey)\n\u001b[0;32m     10\u001b[0m     my_notify, my_send \u001b[39m=\u001b[39m check_for_change(my_hits, my_notify)\n\u001b[0;32m     11\u001b[0m     \u001b[39mif\u001b[39;00m my_send \u001b[39m==\u001b[39m \u001b[39mTrue\u001b[39;00m:\n",
      "Cell \u001b[1;32mIn[138], line 38\u001b[0m, in \u001b[0;36mcheck_fav_status\u001b[1;34m(favs, APIkey)\u001b[0m\n\u001b[0;32m     36\u001b[0m games\u001b[39m=\u001b[39m [x\u001b[39m.\u001b[39mstrip() \u001b[39mfor\u001b[39;00m x \u001b[39min\u001b[39;00m favs\u001b[39m.\u001b[39miloc[n][\u001b[39m\"\u001b[39m\u001b[39mgames\u001b[39m\u001b[39m\"\u001b[39m]\u001b[39m.\u001b[39msplit(\u001b[39m\"\u001b[39m\u001b[39m,\u001b[39m\u001b[39m\"\u001b[39m)]\n\u001b[0;32m     37\u001b[0m getFriend_URL \u001b[39m=\u001b[39m \u001b[39mf\u001b[39m\u001b[39m\"\u001b[39m\u001b[39mhttp://api.steampowered.com/ISteamUser/GetPlayerSummaries/v0002/?key=\u001b[39m\u001b[39m{\u001b[39;00mAPIkey\u001b[39m}\u001b[39;00m\u001b[39m&steamids=\u001b[39m\u001b[39m{\u001b[39;00m\u001b[39mid\u001b[39m\u001b[39m}\u001b[39;00m\u001b[39m\"\u001b[39m\n\u001b[1;32m---> 38\u001b[0m file \u001b[39m=\u001b[39m urllib\u001b[39m.\u001b[39;49mrequest\u001b[39m.\u001b[39;49murlopen(getFriend_URL)\n\u001b[0;32m     39\u001b[0m content \u001b[39m=\u001b[39m file\u001b[39m.\u001b[39mread()\u001b[39m.\u001b[39mdecode(\u001b[39m'\u001b[39m\u001b[39mutf-8\u001b[39m\u001b[39m'\u001b[39m)\n\u001b[0;32m     40\u001b[0m friendstatus \u001b[39m=\u001b[39m json\u001b[39m.\u001b[39mloads(content)\n",
      "File \u001b[1;32mC:\\Program Files\\Python311\\Lib\\urllib\\request.py:216\u001b[0m, in \u001b[0;36murlopen\u001b[1;34m(url, data, timeout, cafile, capath, cadefault, context)\u001b[0m\n\u001b[0;32m    214\u001b[0m \u001b[39melse\u001b[39;00m:\n\u001b[0;32m    215\u001b[0m     opener \u001b[39m=\u001b[39m _opener\n\u001b[1;32m--> 216\u001b[0m \u001b[39mreturn\u001b[39;00m opener\u001b[39m.\u001b[39;49mopen(url, data, timeout)\n",
      "File \u001b[1;32mC:\\Program Files\\Python311\\Lib\\urllib\\request.py:519\u001b[0m, in \u001b[0;36mOpenerDirector.open\u001b[1;34m(self, fullurl, data, timeout)\u001b[0m\n\u001b[0;32m    516\u001b[0m     req \u001b[39m=\u001b[39m meth(req)\n\u001b[0;32m    518\u001b[0m sys\u001b[39m.\u001b[39maudit(\u001b[39m'\u001b[39m\u001b[39murllib.Request\u001b[39m\u001b[39m'\u001b[39m, req\u001b[39m.\u001b[39mfull_url, req\u001b[39m.\u001b[39mdata, req\u001b[39m.\u001b[39mheaders, req\u001b[39m.\u001b[39mget_method())\n\u001b[1;32m--> 519\u001b[0m response \u001b[39m=\u001b[39m \u001b[39mself\u001b[39;49m\u001b[39m.\u001b[39;49m_open(req, data)\n\u001b[0;32m    521\u001b[0m \u001b[39m# post-process response\u001b[39;00m\n\u001b[0;32m    522\u001b[0m meth_name \u001b[39m=\u001b[39m protocol\u001b[39m+\u001b[39m\u001b[39m\"\u001b[39m\u001b[39m_response\u001b[39m\u001b[39m\"\u001b[39m\n",
      "File \u001b[1;32mC:\\Program Files\\Python311\\Lib\\urllib\\request.py:536\u001b[0m, in \u001b[0;36mOpenerDirector._open\u001b[1;34m(self, req, data)\u001b[0m\n\u001b[0;32m    533\u001b[0m     \u001b[39mreturn\u001b[39;00m result\n\u001b[0;32m    535\u001b[0m protocol \u001b[39m=\u001b[39m req\u001b[39m.\u001b[39mtype\n\u001b[1;32m--> 536\u001b[0m result \u001b[39m=\u001b[39m \u001b[39mself\u001b[39;49m\u001b[39m.\u001b[39;49m_call_chain(\u001b[39mself\u001b[39;49m\u001b[39m.\u001b[39;49mhandle_open, protocol, protocol \u001b[39m+\u001b[39;49m\n\u001b[0;32m    537\u001b[0m                           \u001b[39m'\u001b[39;49m\u001b[39m_open\u001b[39;49m\u001b[39m'\u001b[39;49m, req)\n\u001b[0;32m    538\u001b[0m \u001b[39mif\u001b[39;00m result:\n\u001b[0;32m    539\u001b[0m     \u001b[39mreturn\u001b[39;00m result\n",
      "File \u001b[1;32mC:\\Program Files\\Python311\\Lib\\urllib\\request.py:496\u001b[0m, in \u001b[0;36mOpenerDirector._call_chain\u001b[1;34m(self, chain, kind, meth_name, *args)\u001b[0m\n\u001b[0;32m    494\u001b[0m \u001b[39mfor\u001b[39;00m handler \u001b[39min\u001b[39;00m handlers:\n\u001b[0;32m    495\u001b[0m     func \u001b[39m=\u001b[39m \u001b[39mgetattr\u001b[39m(handler, meth_name)\n\u001b[1;32m--> 496\u001b[0m     result \u001b[39m=\u001b[39m func(\u001b[39m*\u001b[39;49margs)\n\u001b[0;32m    497\u001b[0m     \u001b[39mif\u001b[39;00m result \u001b[39mis\u001b[39;00m \u001b[39mnot\u001b[39;00m \u001b[39mNone\u001b[39;00m:\n\u001b[0;32m    498\u001b[0m         \u001b[39mreturn\u001b[39;00m result\n",
      "File \u001b[1;32mC:\\Program Files\\Python311\\Lib\\urllib\\request.py:1377\u001b[0m, in \u001b[0;36mHTTPHandler.http_open\u001b[1;34m(self, req)\u001b[0m\n\u001b[0;32m   1376\u001b[0m \u001b[39mdef\u001b[39;00m \u001b[39mhttp_open\u001b[39m(\u001b[39mself\u001b[39m, req):\n\u001b[1;32m-> 1377\u001b[0m     \u001b[39mreturn\u001b[39;00m \u001b[39mself\u001b[39;49m\u001b[39m.\u001b[39;49mdo_open(http\u001b[39m.\u001b[39;49mclient\u001b[39m.\u001b[39;49mHTTPConnection, req)\n",
      "File \u001b[1;32mC:\\Program Files\\Python311\\Lib\\urllib\\request.py:1352\u001b[0m, in \u001b[0;36mAbstractHTTPHandler.do_open\u001b[1;34m(self, http_class, req, **http_conn_args)\u001b[0m\n\u001b[0;32m   1350\u001b[0m     \u001b[39mexcept\u001b[39;00m \u001b[39mOSError\u001b[39;00m \u001b[39mas\u001b[39;00m err: \u001b[39m# timeout error\u001b[39;00m\n\u001b[0;32m   1351\u001b[0m         \u001b[39mraise\u001b[39;00m URLError(err)\n\u001b[1;32m-> 1352\u001b[0m     r \u001b[39m=\u001b[39m h\u001b[39m.\u001b[39;49mgetresponse()\n\u001b[0;32m   1353\u001b[0m \u001b[39mexcept\u001b[39;00m:\n\u001b[0;32m   1354\u001b[0m     h\u001b[39m.\u001b[39mclose()\n",
      "File \u001b[1;32mC:\\Program Files\\Python311\\Lib\\http\\client.py:1374\u001b[0m, in \u001b[0;36mHTTPConnection.getresponse\u001b[1;34m(self)\u001b[0m\n\u001b[0;32m   1372\u001b[0m \u001b[39mtry\u001b[39;00m:\n\u001b[0;32m   1373\u001b[0m     \u001b[39mtry\u001b[39;00m:\n\u001b[1;32m-> 1374\u001b[0m         response\u001b[39m.\u001b[39;49mbegin()\n\u001b[0;32m   1375\u001b[0m     \u001b[39mexcept\u001b[39;00m \u001b[39mConnectionError\u001b[39;00m:\n\u001b[0;32m   1376\u001b[0m         \u001b[39mself\u001b[39m\u001b[39m.\u001b[39mclose()\n",
      "File \u001b[1;32mC:\\Program Files\\Python311\\Lib\\http\\client.py:318\u001b[0m, in \u001b[0;36mHTTPResponse.begin\u001b[1;34m(self)\u001b[0m\n\u001b[0;32m    316\u001b[0m \u001b[39m# read until we get a non-100 response\u001b[39;00m\n\u001b[0;32m    317\u001b[0m \u001b[39mwhile\u001b[39;00m \u001b[39mTrue\u001b[39;00m:\n\u001b[1;32m--> 318\u001b[0m     version, status, reason \u001b[39m=\u001b[39m \u001b[39mself\u001b[39;49m\u001b[39m.\u001b[39;49m_read_status()\n\u001b[0;32m    319\u001b[0m     \u001b[39mif\u001b[39;00m status \u001b[39m!=\u001b[39m CONTINUE:\n\u001b[0;32m    320\u001b[0m         \u001b[39mbreak\u001b[39;00m\n",
      "File \u001b[1;32mC:\\Program Files\\Python311\\Lib\\http\\client.py:279\u001b[0m, in \u001b[0;36mHTTPResponse._read_status\u001b[1;34m(self)\u001b[0m\n\u001b[0;32m    278\u001b[0m \u001b[39mdef\u001b[39;00m \u001b[39m_read_status\u001b[39m(\u001b[39mself\u001b[39m):\n\u001b[1;32m--> 279\u001b[0m     line \u001b[39m=\u001b[39m \u001b[39mstr\u001b[39m(\u001b[39mself\u001b[39m\u001b[39m.\u001b[39mfp\u001b[39m.\u001b[39mreadline(_MAXLINE \u001b[39m+\u001b[39m \u001b[39m1\u001b[39m), \u001b[39m\"\u001b[39m\u001b[39miso-8859-1\u001b[39m\u001b[39m\"\u001b[39m)\n\u001b[0;32m    280\u001b[0m     \u001b[39mif\u001b[39;00m \u001b[39mlen\u001b[39m(line) \u001b[39m>\u001b[39m _MAXLINE:\n\u001b[0;32m    281\u001b[0m         \u001b[39mraise\u001b[39;00m LineTooLong(\u001b[39m\"\u001b[39m\u001b[39mstatus line\u001b[39m\u001b[39m\"\u001b[39m)\n",
      "File \u001b[1;32mC:\\Program Files\\Python311\\Lib\\socket.py:706\u001b[0m, in \u001b[0;36mSocketIO.readinto\u001b[1;34m(self, b)\u001b[0m\n\u001b[0;32m    704\u001b[0m \u001b[39mwhile\u001b[39;00m \u001b[39mTrue\u001b[39;00m:\n\u001b[0;32m    705\u001b[0m     \u001b[39mtry\u001b[39;00m:\n\u001b[1;32m--> 706\u001b[0m         \u001b[39mreturn\u001b[39;00m \u001b[39mself\u001b[39;49m\u001b[39m.\u001b[39;49m_sock\u001b[39m.\u001b[39;49mrecv_into(b)\n\u001b[0;32m    707\u001b[0m     \u001b[39mexcept\u001b[39;00m timeout:\n\u001b[0;32m    708\u001b[0m         \u001b[39mself\u001b[39m\u001b[39m.\u001b[39m_timeout_occurred \u001b[39m=\u001b[39m \u001b[39mTrue\u001b[39;00m\n",
      "\u001b[1;31mKeyboardInterrupt\u001b[0m: "
     ]
    }
   ],
   "source": [
    "# create empty dict for notifications\n",
    "my_notify = {}\n",
    "for i in range(my_favs.shape[0]):\n",
    "    my_notify[my_favs.iloc[i][\"steamname\"]]=\"\"\n",
    "my_notify\n",
    "\n",
    "x=0\n",
    "while x<100:\n",
    "    my_hits = check_fav_status(my_favs, my_APIkey)\n",
    "    my_notify, my_send = check_for_change(my_hits, my_notify)\n",
    "    if my_send == True:\n",
    "        for i in my_notify.keys():\n",
    "            if my_notify[i] != \"\":\n",
    "                print(f\"{i} is playing {my_notify[i]}\")\n",
    "    else:\n",
    "        print(\".\")\n",
    "    time.sleep(10)\n",
    "    x +=1"
   ]
  },
  {
   "cell_type": "code",
   "execution_count": null,
   "metadata": {},
   "outputs": [],
   "source": [
    "import time"
   ]
  },
  {
   "cell_type": "code",
   "execution_count": null,
   "metadata": {},
   "outputs": [],
   "source": [
    "def get_ingame_friends(friendlist, APIkey):\n",
    "    keys=[\"steamid\", \"personaname\", \"gameextrainfo\"]\n",
    "    out=[]\n",
    "    for id in friendlist[\"steamid\"]:\n",
    "        getFriend_URL = f\"http://api.steampowered.com/ISteamUser/GetPlayerSummaries/v0002/?key={APIkey}&steamids={id}\"\n",
    "        file = urllib.request.urlopen(getFriend_URL)\n",
    "        content = file.read().decode('utf-8')\n",
    "        friendstatus = json.loads(content)\n",
    "        try:\n",
    "            friendstatus = friendstatus[\"response\"][\"players\"][0]\n",
    "            if friendstatus[\"gameextrainfo\"] != None:\n",
    "                out.append([friendstatus.get(key) for key in keys])\n",
    "        except:\n",
    "            continue\n",
    "    return pd.DataFrame(out, columns=keys)"
   ]
  },
  {
   "cell_type": "code",
   "execution_count": null,
   "metadata": {},
   "outputs": [
    {
     "ename": "NameError",
     "evalue": "name 'my_friendlist' is not defined",
     "output_type": "error",
     "traceback": [
      "\u001b[1;31m---------------------------------------------------------------------------\u001b[0m",
      "\u001b[1;31mNameError\u001b[0m                                 Traceback (most recent call last)",
      "Cell \u001b[1;32mIn[97], line 1\u001b[0m\n\u001b[1;32m----> 1\u001b[0m my_ingame_friends \u001b[39m=\u001b[39m get_ingame_friends(my_friendlist, my_APIkey)\n\u001b[0;32m      2\u001b[0m my_ingame_friends\n",
      "\u001b[1;31mNameError\u001b[0m: name 'my_friendlist' is not defined"
     ]
    }
   ],
   "source": [
    "my_ingame_friends = get_ingame_friends(my_friendlist, my_APIkey)\n",
    "my_ingame_friends"
   ]
  },
  {
   "cell_type": "code",
   "execution_count": null,
   "metadata": {},
   "outputs": [
    {
     "ename": "NameError",
     "evalue": "name 'my_friend_info' is not defined",
     "output_type": "error",
     "traceback": [
      "\u001b[1;31m---------------------------------------------------------------------------\u001b[0m",
      "\u001b[1;31mNameError\u001b[0m                                 Traceback (most recent call last)",
      "Cell \u001b[1;32mIn[38], line 2\u001b[0m\n\u001b[0;32m      1\u001b[0m \u001b[39m# online friends\u001b[39;00m\n\u001b[1;32m----> 2\u001b[0m my_friend_info[my_friend_info[\u001b[39m\"\u001b[39m\u001b[39mpersonastate\u001b[39m\u001b[39m\"\u001b[39m] \u001b[39m!=\u001b[39m \u001b[39m0\u001b[39m]\u001b[39m.\u001b[39msort_values(\u001b[39m\"\u001b[39m\u001b[39mpersonastate\u001b[39m\u001b[39m\"\u001b[39m)\n",
      "\u001b[1;31mNameError\u001b[0m: name 'my_friend_info' is not defined"
     ]
    }
   ],
   "source": [
    "# online friends\n",
    "my_friend_info[my_friend_info[\"personastate\"] != 0].sort_values(\"personastate\")"
   ]
  },
  {
   "cell_type": "code",
   "execution_count": null,
   "metadata": {},
   "outputs": [
    {
     "data": {
      "text/plain": [
       "{'response': {'players': [{'steamid': '76561198026715831',\n",
       "    'communityvisibilitystate': 3,\n",
       "    'profilestate': 1,\n",
       "    'personaname': '[WC] Scott Sterling',\n",
       "    'profileurl': 'https://steamcommunity.com/id/socing/',\n",
       "    'avatar': 'https://avatars.akamai.steamstatic.com/c18e067d5c5b0654369a42ae92a32ac105f42e21.jpg',\n",
       "    'avatarmedium': 'https://avatars.akamai.steamstatic.com/c18e067d5c5b0654369a42ae92a32ac105f42e21_medium.jpg',\n",
       "    'avatarfull': 'https://avatars.akamai.steamstatic.com/c18e067d5c5b0654369a42ae92a32ac105f42e21_full.jpg',\n",
       "    'avatarhash': 'c18e067d5c5b0654369a42ae92a32ac105f42e21',\n",
       "    'lastlogoff': 1673943546,\n",
       "    'personastate': 3,\n",
       "    'realname': 'Scott Sterling',\n",
       "    'primaryclanid': '103582791463890108',\n",
       "    'timecreated': 1276860108,\n",
       "    'personastateflags': 0,\n",
       "    'gameextrainfo': 'Sands of Salzaar',\n",
       "    'gameid': '1094520',\n",
       "    'loccountrycode': 'BD'}]}}"
      ]
     },
     "execution_count": 13,
     "metadata": {},
     "output_type": "execute_result"
    }
   ],
   "source": [
    "id= \"76561198026715831\"\n",
    "getFriend_URL = f\"http://api.steampowered.com/ISteamUser/GetPlayerSummaries/v0002/?key={my_APIkey}&steamids={id}\"\n",
    "file = urllib.request.urlopen(getFriend_URL)\n",
    "content = file.read().decode('utf-8')\n",
    "friendstatus = json.loads(content)\n",
    "friendstatus"
   ]
  },
  {
   "cell_type": "code",
   "execution_count": null,
   "metadata": {},
   "outputs": [
    {
     "data": {
      "text/plain": [
       "{'response': {'players': [{'steamid': '76561198059254917',\n",
       "    'communityvisibilitystate': 3,\n",
       "    'profilestate': 1,\n",
       "    'personaname': 'Pail',\n",
       "    'commentpermission': 2,\n",
       "    'profileurl': 'https://steamcommunity.com/id/Pail_1/',\n",
       "    'avatar': 'https://avatars.akamai.steamstatic.com/eef75511ba1f16b66e9ac45346e7c0f790a6551a.jpg',\n",
       "    'avatarmedium': 'https://avatars.akamai.steamstatic.com/eef75511ba1f16b66e9ac45346e7c0f790a6551a_medium.jpg',\n",
       "    'avatarfull': 'https://avatars.akamai.steamstatic.com/eef75511ba1f16b66e9ac45346e7c0f790a6551a_full.jpg',\n",
       "    'avatarhash': 'eef75511ba1f16b66e9ac45346e7c0f790a6551a',\n",
       "    'lastlogoff': 1673887105,\n",
       "    'personastate': 0,\n",
       "    'realname': 'Schniin',\n",
       "    'primaryclanid': '103582791429521408',\n",
       "    'timecreated': 1329986845,\n",
       "    'personastateflags': 0,\n",
       "    'loccountrycode': 'DE'}]}}"
      ]
     },
     "execution_count": 14,
     "metadata": {},
     "output_type": "execute_result"
    }
   ],
   "source": [
    "id= \"76561198059254917\"\n",
    "getFriend_URL = f\"http://api.steampowered.com/ISteamUser/GetPlayerSummaries/v0002/?key={my_APIkey}&steamids={id}\"\n",
    "file = urllib.request.urlopen(getFriend_URL)\n",
    "content = file.read().decode('utf-8')\n",
    "friendstatus = json.loads(content)\n",
    "friendstatus"
   ]
  },
  {
   "cell_type": "code",
   "execution_count": null,
   "metadata": {},
   "outputs": [],
   "source": []
  },
  {
   "cell_type": "code",
   "execution_count": null,
   "metadata": {},
   "outputs": [
    {
     "data": {
      "text/html": [
       "<div>\n",
       "<style scoped>\n",
       "    .dataframe tbody tr th:only-of-type {\n",
       "        vertical-align: middle;\n",
       "    }\n",
       "\n",
       "    .dataframe tbody tr th {\n",
       "        vertical-align: top;\n",
       "    }\n",
       "\n",
       "    .dataframe thead th {\n",
       "        text-align: right;\n",
       "    }\n",
       "</style>\n",
       "<table border=\"1\" class=\"dataframe\">\n",
       "  <thead>\n",
       "    <tr style=\"text-align: right;\">\n",
       "      <th></th>\n",
       "      <th>Freund</th>\n",
       "      <th>SteamName</th>\n",
       "      <th>steamid</th>\n",
       "      <th>Games</th>\n",
       "    </tr>\n",
       "  </thead>\n",
       "  <tbody>\n",
       "    <tr>\n",
       "      <th>0</th>\n",
       "      <td>Schniin</td>\n",
       "      <td>Pail</td>\n",
       "      <td>NaN</td>\n",
       "      <td>Warhammer: Vermintide 2</td>\n",
       "    </tr>\n",
       "    <tr>\n",
       "      <th>1</th>\n",
       "      <td>Nils</td>\n",
       "      <td>Smallboy_Slin</td>\n",
       "      <td>NaN</td>\n",
       "      <td>Deep Rock Galactic,SCUM</td>\n",
       "    </tr>\n",
       "  </tbody>\n",
       "</table>\n",
       "</div>"
      ],
      "text/plain": [
       "    Freund      SteamName  steamid                    Games\n",
       "0  Schniin           Pail      NaN  Warhammer: Vermintide 2\n",
       "1     Nils  Smallboy_Slin      NaN  Deep Rock Galactic,SCUM"
      ]
     },
     "execution_count": 32,
     "metadata": {},
     "output_type": "execute_result"
    }
   ],
   "source": [
    "df"
   ]
  },
  {
   "cell_type": "code",
   "execution_count": null,
   "metadata": {},
   "outputs": [],
   "source": [
    "def check_fav_status(favs, APIkey):\n",
    "    keys=[\"personaname\", \"steamid\", \"gameextrainfo\"]\n",
    "    out=[]\n",
    "    for id in favs[\"steamid\"]:\n",
    "        getFriend_URL = f\"http://api.steampowered.com/ISteamUser/GetPlayerSummaries/v0002/?key={APIkey}&steamids={id}\"\n",
    "        file = urllib.request.urlopen(getFriend_URL)\n",
    "        content = file.read().decode('utf-8')\n",
    "        friendstatus = json.loads(content)\n",
    "        try:\n",
    "            friendstatus = friendstatus[\"response\"][\"players\"][0]\n",
    "            if friendstatus[\"gameextrainfo\"] != None:\n",
    "                out.append([friendstatus.get(key) for key in keys])\n",
    "        except:\n",
    "            continue\n",
    "    return pd.DataFrame(out, columns=[\"steamname\", \"steamid\", \"gameextrainfo\"])"
   ]
  },
  {
   "cell_type": "code",
   "execution_count": null,
   "metadata": {},
   "outputs": [],
   "source": []
  }
 ],
 "metadata": {
  "kernelspec": {
   "display_name": ".venv",
   "language": "python",
   "name": "python3"
  },
  "language_info": {
   "codemirror_mode": {
    "name": "ipython",
    "version": 3
   },
   "file_extension": ".py",
   "mimetype": "text/x-python",
   "name": "python",
   "nbconvert_exporter": "python",
   "pygments_lexer": "ipython3",
   "version": "3.11.1"
  },
  "orig_nbformat": 4,
  "vscode": {
   "interpreter": {
    "hash": "65bdf27253ab9bf5f574208876c3700780af6134bc85b4ba574367d178be659f"
   }
  }
 },
 "nbformat": 4,
 "nbformat_minor": 2
}
