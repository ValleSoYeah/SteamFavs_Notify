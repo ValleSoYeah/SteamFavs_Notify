{
 "cells": [
  {
   "cell_type": "code",
   "execution_count": 51,
   "metadata": {},
   "outputs": [],
   "source": [
    "from credentials import *\n",
    "import numpy as np\n",
    "import pandas as pd\n",
    "#import urllib\n",
    "from urllib.request import urlopen\n",
    "import json\n",
    "import time"
   ]
  },
  {
   "cell_type": "code",
   "execution_count": 43,
   "metadata": {},
   "outputs": [],
   "source": [
    "def get_friend_IDs(steamid, APIkey):\n",
    "    getList_URL = f\"http://api.steampowered.com/ISteamUser/GetFriendList/v0001/?key={APIkey}&steamid={steamid}&relationship=friend\"\n",
    "    file = urlopen(getList_URL)\n",
    "    content = file.read().decode('utf-8')\n",
    "    friendlist = json.loads(content)\n",
    "    friendlist = pd.DataFrame(friendlist[\"friendslist\"][\"friends\"])\n",
    "    return friendlist[\"steamid\"]\n",
    "\n",
    "def get_friend_names(friend_IDs, APIkey):\n",
    "    keys=[\"steamid\", \"personaname\"]\n",
    "    out=[]\n",
    "    for id in friend_IDs:\n",
    "        getFriend_URL = f\"http://api.steampowered.com/ISteamUser/GetPlayerSummaries/v0002/?key={APIkey}&steamids={id}\"\n",
    "        file = urlopen(getFriend_URL)\n",
    "        content = file.read().decode('utf-8')\n",
    "        friendstatus = json.loads(content)\n",
    "        try:\n",
    "            friendstatus = friendstatus[\"response\"][\"players\"][0]\n",
    "            out.append([friendstatus.get(key) for key in keys])\n",
    "        except:\n",
    "            continue\n",
    "    return pd.DataFrame(out, columns=[\"steamid\", \"steamname\"]).sort_values(\"steamname\")\n",
    "\n",
    "def fill_empty_ids(favs, friend_names):\n",
    "    favs = pd.merge(favs, friend_names, on=\"steamname\", suffixes=(\"\",\"_2\"))\n",
    "    favs[\"steamid\"]= favs[\"steamid_2\"]\n",
    "    favs.drop(\"steamid_2\", axis=1, inplace=True)\n",
    "    favs.to_csv(\"my_favorites.csv\", sep=\";\", index=False)\n",
    "    return favs\n",
    "\n",
    "def check_fav_status(favs, APIkey):\n",
    "    notify={}\n",
    "    keys=[\"personaname\", \"steamid\", \"gameextrainfo\"]\n",
    "    for n in range(favs.shape[0]):\n",
    "        id= favs.iloc[n][\"steamid\"]\n",
    "        games= [x.strip() for x in favs.iloc[n][\"games\"].split(\",\")]\n",
    "        getFriend_URL = f\"http://api.steampowered.com/ISteamUser/GetPlayerSummaries/v0002/?key={APIkey}&steamids={id}\"\n",
    "        file = urlopen(getFriend_URL)\n",
    "        content = file.read().decode('utf-8')\n",
    "        friendstatus = json.loads(content)\n",
    "        try:\n",
    "            friendstatus = friendstatus[\"response\"][\"players\"][0]\n",
    "            name = friendstatus[\"personaname\"]\n",
    "            try:\n",
    "                game = friendstatus[\"gameextrainfo\"]\n",
    "                if game in games:\n",
    "                    notify[name] = game\n",
    "            except: \n",
    "                notify[name] = \"\"\n",
    "        except:\n",
    "            continue\n",
    "    return notify\n",
    "\n",
    "\n",
    "def check_for_change(hits, notify):\n",
    "    send = False\n",
    "    for entry in hits.keys():\n",
    "        if notify[entry] != hits[entry]:\n",
    "            notify[entry] = hits[entry]\n",
    "            if notify[entry] != \"\":\n",
    "                send = True\n",
    "    return notify, send"
   ]
  },
  {
   "cell_type": "code",
   "execution_count": 44,
   "metadata": {},
   "outputs": [
    {
     "data": {
      "text/plain": [
       "{'Pail': '', 'Smallboy_Slin': '', '[WC] Scott Sterling': '', 'chrisse286': ''}"
      ]
     },
     "execution_count": 44,
     "metadata": {},
     "output_type": "execute_result"
    }
   ],
   "source": [
    "# use credentials to get steamID of entire friendlist\n",
    "my_friend_IDs = get_friend_IDs(my_SteamID, my_APIkey)\n",
    "\n",
    "# look up the steam names for all IDs in friendlist\n",
    "my_friend_names = get_friend_names(my_friend_IDs, my_APIkey)\n",
    "\n",
    "#load table of favorites\n",
    "my_favs = pd.read_csv(\"my_favorites.csv\", delimiter=\";\")\n",
    "\n",
    "# fill empty IDs in favorites\n",
    "my_favs = fill_empty_ids(my_favs, my_friend_names)\n",
    "\n",
    "# initialize empty dict for notifications\n",
    "my_notify = {}\n",
    "for i in range(my_favs.shape[0]):\n",
    "    my_notify[my_favs.iloc[i][\"steamname\"]]=\"\"\n",
    "my_notify"
   ]
  },
  {
   "cell_type": "code",
   "execution_count": 55,
   "metadata": {},
   "outputs": [
    {
     "data": {
      "text/plain": [
       "[{'steamid': '76561197960487372',\n",
       "  'relationship': 'friend',\n",
       "  'friend_since': 1360424195},\n",
       " {'steamid': '76561197962583100',\n",
       "  'relationship': 'friend',\n",
       "  'friend_since': 1397381161},\n",
       " {'steamid': '76561197970586960',\n",
       "  'relationship': 'friend',\n",
       "  'friend_since': 1612381871},\n",
       " {'steamid': '76561197977569434',\n",
       "  'relationship': 'friend',\n",
       "  'friend_since': 1345493291},\n",
       " {'steamid': '76561197979479074',\n",
       "  'relationship': 'friend',\n",
       "  'friend_since': 1348602855},\n",
       " {'steamid': '76561197979975796',\n",
       "  'relationship': 'friend',\n",
       "  'friend_since': 1353522397},\n",
       " {'steamid': '76561197981033122',\n",
       "  'relationship': 'friend',\n",
       "  'friend_since': 1348424175},\n",
       " {'steamid': '76561197982396704',\n",
       "  'relationship': 'friend',\n",
       "  'friend_since': 1352058037},\n",
       " {'steamid': '76561197985222289',\n",
       "  'relationship': 'friend',\n",
       "  'friend_since': 1376939017},\n",
       " {'steamid': '76561197989292226',\n",
       "  'relationship': 'friend',\n",
       "  'friend_since': 1354725719},\n",
       " {'steamid': '76561197990862686',\n",
       "  'relationship': 'friend',\n",
       "  'friend_since': 1488713189},\n",
       " {'steamid': '76561197992627584',\n",
       "  'relationship': 'friend',\n",
       "  'friend_since': 1474653255},\n",
       " {'steamid': '76561197994105904',\n",
       "  'relationship': 'friend',\n",
       "  'friend_since': 1436826019},\n",
       " {'steamid': '76561197994462750',\n",
       "  'relationship': 'friend',\n",
       "  'friend_since': 1363971916},\n",
       " {'steamid': '76561198000861310',\n",
       "  'relationship': 'friend',\n",
       "  'friend_since': 1671217570},\n",
       " {'steamid': '76561198001429147',\n",
       "  'relationship': 'friend',\n",
       "  'friend_since': 1361471109},\n",
       " {'steamid': '76561198002577545',\n",
       "  'relationship': 'friend',\n",
       "  'friend_since': 1467311940},\n",
       " {'steamid': '76561198005726477',\n",
       "  'relationship': 'friend',\n",
       "  'friend_since': 1502053082},\n",
       " {'steamid': '76561198007361576',\n",
       "  'relationship': 'friend',\n",
       "  'friend_since': 1671217875},\n",
       " {'steamid': '76561198007816807',\n",
       "  'relationship': 'friend',\n",
       "  'friend_since': 1673893718},\n",
       " {'steamid': '76561198009647946',\n",
       "  'relationship': 'friend',\n",
       "  'friend_since': 1602362670},\n",
       " {'steamid': '76561198010482095',\n",
       "  'relationship': 'friend',\n",
       "  'friend_since': 1361105501},\n",
       " {'steamid': '76561198016036160',\n",
       "  'relationship': 'friend',\n",
       "  'friend_since': 1372795051},\n",
       " {'steamid': '76561198023754449',\n",
       "  'relationship': 'friend',\n",
       "  'friend_since': 1503594339},\n",
       " {'steamid': '76561198026380522',\n",
       "  'relationship': 'friend',\n",
       "  'friend_since': 1448034749},\n",
       " {'steamid': '76561198026390141',\n",
       "  'relationship': 'friend',\n",
       "  'friend_since': 1354716290},\n",
       " {'steamid': '76561198026715831',\n",
       "  'relationship': 'friend',\n",
       "  'friend_since': 1345493931},\n",
       " {'steamid': '76561198031229018',\n",
       "  'relationship': 'friend',\n",
       "  'friend_since': 1483101127},\n",
       " {'steamid': '76561198034930569',\n",
       "  'relationship': 'friend',\n",
       "  'friend_since': 1354900885},\n",
       " {'steamid': '76561198043714796',\n",
       "  'relationship': 'friend',\n",
       "  'friend_since': 1395911605},\n",
       " {'steamid': '76561198043975278',\n",
       "  'relationship': 'friend',\n",
       "  'friend_since': 1370084217},\n",
       " {'steamid': '76561198044159818',\n",
       "  'relationship': 'friend',\n",
       "  'friend_since': 1358948817},\n",
       " {'steamid': '76561198046357872',\n",
       "  'relationship': 'friend',\n",
       "  'friend_since': 1349453269},\n",
       " {'steamid': '76561198046600721',\n",
       "  'relationship': 'friend',\n",
       "  'friend_since': 1351428369},\n",
       " {'steamid': '76561198047168246',\n",
       "  'relationship': 'friend',\n",
       "  'friend_since': 1358336764},\n",
       " {'steamid': '76561198047331434',\n",
       "  'relationship': 'friend',\n",
       "  'friend_since': 1354559401},\n",
       " {'steamid': '76561198049721635',\n",
       "  'relationship': 'friend',\n",
       "  'friend_since': 1350743871},\n",
       " {'steamid': '76561198050438953',\n",
       "  'relationship': 'friend',\n",
       "  'friend_since': 1399314566},\n",
       " {'steamid': '76561198050566437',\n",
       "  'relationship': 'friend',\n",
       "  'friend_since': 1488914977},\n",
       " {'steamid': '76561198059254917',\n",
       "  'relationship': 'friend',\n",
       "  'friend_since': 1638967385},\n",
       " {'steamid': '76561198064212740',\n",
       "  'relationship': 'friend',\n",
       "  'friend_since': 1503937210},\n",
       " {'steamid': '76561198065923297',\n",
       "  'relationship': 'friend',\n",
       "  'friend_since': 1503605027},\n",
       " {'steamid': '76561198068931354',\n",
       "  'relationship': 'friend',\n",
       "  'friend_since': 1376847131},\n",
       " {'steamid': '76561198071408615',\n",
       "  'relationship': 'friend',\n",
       "  'friend_since': 1472562994},\n",
       " {'steamid': '76561198072733619',\n",
       "  'relationship': 'friend',\n",
       "  'friend_since': 1353954385},\n",
       " {'steamid': '76561198077351614',\n",
       "  'relationship': 'friend',\n",
       "  'friend_since': 1355412754},\n",
       " {'steamid': '76561198078361865',\n",
       "  'relationship': 'friend',\n",
       "  'friend_since': 1673893806},\n",
       " {'steamid': '76561198080511069',\n",
       "  'relationship': 'friend',\n",
       "  'friend_since': 1383415138},\n",
       " {'steamid': '76561198095895306',\n",
       "  'relationship': 'friend',\n",
       "  'friend_since': 1372446562},\n",
       " {'steamid': '76561198112241540',\n",
       "  'relationship': 'friend',\n",
       "  'friend_since': 1494831548},\n",
       " {'steamid': '76561198132034600',\n",
       "  'relationship': 'friend',\n",
       "  'friend_since': 1673621463},\n",
       " {'steamid': '76561198132562958',\n",
       "  'relationship': 'friend',\n",
       "  'friend_since': 1671223084},\n",
       " {'steamid': '76561198178979410',\n",
       "  'relationship': 'friend',\n",
       "  'friend_since': 1608307599},\n",
       " {'steamid': '76561198237988312',\n",
       "  'relationship': 'friend',\n",
       "  'friend_since': 1436367758},\n",
       " {'steamid': '76561198261110415',\n",
       "  'relationship': 'friend',\n",
       "  'friend_since': 1447747235},\n",
       " {'steamid': '76561198326888009',\n",
       "  'relationship': 'friend',\n",
       "  'friend_since': 1471805949},\n",
       " {'steamid': '76561198800574908',\n",
       "  'relationship': 'friend',\n",
       "  'friend_since': 1588503785},\n",
       " {'steamid': '76561199037315001',\n",
       "  'relationship': 'friend',\n",
       "  'friend_since': 1605095455},\n",
       " {'steamid': '76561199445721428',\n",
       "  'relationship': 'friend',\n",
       "  'friend_since': 1673893873}]"
      ]
     },
     "execution_count": 55,
     "metadata": {},
     "output_type": "execute_result"
    }
   ],
   "source": [
    "getList_URL = f\"http://api.steampowered.com/ISteamUser/GetFriendList/v0001/?key={my_APIkey}&steamid={my_SteamID}&relationship=friend\"\n",
    "file = urlopen(getList_URL)\n",
    "content = file.read().decode('utf-8')\n",
    "friendlist = json.loads(content)\n",
    "friendlist[\"friendslist\"][\"friends\"]"
   ]
  },
  {
   "cell_type": "code",
   "execution_count": 4,
   "metadata": {},
   "outputs": [
    {
     "name": "stdout",
     "output_type": "stream",
     "text": [
      "[WC] Scott Sterling is playing Sands of Salzaar\n",
      ".\n"
     ]
    },
    {
     "ename": "KeyboardInterrupt",
     "evalue": "",
     "output_type": "error",
     "traceback": [
      "\u001b[1;31m---------------------------------------------------------------------------\u001b[0m",
      "\u001b[1;31mKeyboardInterrupt\u001b[0m                         Traceback (most recent call last)",
      "Cell \u001b[1;32mIn[4], line 12\u001b[0m\n\u001b[0;32m     10\u001b[0m \u001b[39melse\u001b[39;00m:\n\u001b[0;32m     11\u001b[0m     \u001b[39mprint\u001b[39m(\u001b[39m\"\u001b[39m\u001b[39m.\u001b[39m\u001b[39m\"\u001b[39m)\n\u001b[1;32m---> 12\u001b[0m time\u001b[39m.\u001b[39;49msleep(\u001b[39m10\u001b[39;49m)\n\u001b[0;32m     13\u001b[0m x \u001b[39m+\u001b[39m\u001b[39m=\u001b[39m\u001b[39m1\u001b[39m\n",
      "\u001b[1;31mKeyboardInterrupt\u001b[0m: "
     ]
    }
   ],
   "source": [
    "#check repeatedly for changes\n",
    "x=0\n",
    "while x<10:\n",
    "    my_hits = check_fav_status(my_favs, my_APIkey)\n",
    "    my_notify, my_send = check_for_change(my_hits, my_notify)\n",
    "    if my_send == True:\n",
    "        for i in my_notify.keys():\n",
    "            if my_notify[i] != \"\":\n",
    "                print(f\"{i} is playing {my_notify[i]}\")\n",
    "    else:\n",
    "        print(\".\")\n",
    "    time.sleep(10)\n",
    "    x +=1"
   ]
  },
  {
   "cell_type": "code",
   "execution_count": 23,
   "metadata": {},
   "outputs": [],
   "source": [
    "from time import time, sleep, localtime, strftime\n"
   ]
  },
  {
   "cell_type": "code",
   "execution_count": 17,
   "metadata": {},
   "outputs": [
    {
     "name": "stdout",
     "output_type": "stream",
     "text": [
      "1674047558.3622632\n",
      "1674047568.3625503\n"
     ]
    },
    {
     "ename": "KeyboardInterrupt",
     "evalue": "",
     "output_type": "error",
     "traceback": [
      "\u001b[1;31m---------------------------------------------------------------------------\u001b[0m",
      "\u001b[1;31mKeyboardInterrupt\u001b[0m                         Traceback (most recent call last)",
      "Cell \u001b[1;32mIn[17], line 6\u001b[0m\n\u001b[0;32m      4\u001b[0m \u001b[39mprint\u001b[39m(start_time)\n\u001b[0;32m      5\u001b[0m \u001b[39m#work work\u001b[39;00m\n\u001b[1;32m----> 6\u001b[0m sleep(\u001b[39m3\u001b[39;49m)\n\u001b[0;32m      7\u001b[0m sleep(start_time \u001b[39m+\u001b[39m \u001b[39m10\u001b[39m \u001b[39m-\u001b[39m time())\n\u001b[0;32m      8\u001b[0m i \u001b[39m+\u001b[39m\u001b[39m=\u001b[39m \u001b[39m1\u001b[39m\n",
      "\u001b[1;31mKeyboardInterrupt\u001b[0m: "
     ]
    }
   ],
   "source": [
    "i = 0\n",
    "while i < 10:\n",
    "    start_time = time()\n",
    "    print(start_time)\n",
    "    #work work\n",
    "    sleep(3)\n",
    "    sleep(start_time + 10 - time())\n",
    "    i += 1"
   ]
  },
  {
   "cell_type": "code",
   "execution_count": 27,
   "metadata": {},
   "outputs": [],
   "source": [
    "import requests"
   ]
  },
  {
   "cell_type": "code",
   "execution_count": 29,
   "metadata": {},
   "outputs": [
    {
     "data": {
      "text/plain": [
       "{'ok': True,\n",
       " 'result': {'message_id': 17,\n",
       "  'from': {'id': 5924291011,\n",
       "   'is_bot': True,\n",
       "   'first_name': 'SteamFavs-Notifier',\n",
       "   'username': 'SteamFavs_Bot'},\n",
       "  'chat': {'id': 108811623,\n",
       "   'first_name': 'Valle',\n",
       "   'last_name': 'So Yeah!',\n",
       "   'username': 'UndValleSoYeah',\n",
       "   'type': 'private'},\n",
       "  'date': 1674048550,\n",
       "  'text': 'testes'}}"
      ]
     },
     "execution_count": 29,
     "metadata": {},
     "output_type": "execute_result"
    }
   ],
   "source": [
    "message = \"testes\"\n",
    "url = f\"https://api.telegram.org/bot{my_bot_token}/sendMessage?chat_id={my_telegram_id}&text={message}\"\n",
    "requests.get(url).json()"
   ]
  },
  {
   "cell_type": "code",
   "execution_count": 40,
   "metadata": {},
   "outputs": [
    {
     "data": {
      "text/plain": [
       "0"
      ]
     },
     "execution_count": 40,
     "metadata": {},
     "output_type": "execute_result"
    }
   ],
   "source": [
    "int(37.00//3600)\n"
   ]
  },
  {
   "cell_type": "code",
   "execution_count": 36,
   "metadata": {},
   "outputs": [
    {
     "data": {
      "text/plain": [
       "1"
      ]
     },
     "execution_count": 36,
     "metadata": {},
     "output_type": "execute_result"
    }
   ],
   "source": [
    "(3662%3600)//60"
   ]
  },
  {
   "cell_type": "code",
   "execution_count": 37,
   "metadata": {},
   "outputs": [
    {
     "data": {
      "text/plain": [
       "2"
      ]
     },
     "execution_count": 37,
     "metadata": {},
     "output_type": "execute_result"
    }
   ],
   "source": [
    "(3662%60)"
   ]
  },
  {
   "cell_type": "code",
   "execution_count": 56,
   "metadata": {},
   "outputs": [
    {
     "ename": "SyntaxError",
     "evalue": "unterminated string literal (detected at line 1) (2257429798.py, line 1)",
     "output_type": "error",
     "traceback": [
      "\u001b[1;36m  Cell \u001b[1;32mIn[56], line 1\u001b[1;36m\u001b[0m\n\u001b[1;33m    pd.read_csv(\"friend;steamname;steamid;games\u001b[0m\n\u001b[1;37m                ^\u001b[0m\n\u001b[1;31mSyntaxError\u001b[0m\u001b[1;31m:\u001b[0m unterminated string literal (detected at line 1)\n"
     ]
    }
   ],
   "source": []
  },
  {
   "cell_type": "code",
   "execution_count": 58,
   "metadata": {},
   "outputs": [
    {
     "ename": "AttributeError",
     "evalue": "'str' object has no attribute 'read'",
     "output_type": "error",
     "traceback": [
      "\u001b[1;31m---------------------------------------------------------------------------\u001b[0m",
      "\u001b[1;31mAttributeError\u001b[0m                            Traceback (most recent call last)",
      "Cell \u001b[1;32mIn[58], line 1\u001b[0m\n\u001b[1;32m----> 1\u001b[0m test \u001b[39m=\u001b[39m json\u001b[39m.\u001b[39;49mload(\u001b[39m\"\u001b[39;49m\u001b[39mmy_favorites.csv\u001b[39;49m\u001b[39m\"\u001b[39;49m)\n",
      "File \u001b[1;32mC:\\Program Files\\Python311\\Lib\\json\\__init__.py:293\u001b[0m, in \u001b[0;36mload\u001b[1;34m(fp, cls, object_hook, parse_float, parse_int, parse_constant, object_pairs_hook, **kw)\u001b[0m\n\u001b[0;32m    274\u001b[0m \u001b[39mdef\u001b[39;00m \u001b[39mload\u001b[39m(fp, \u001b[39m*\u001b[39m, \u001b[39mcls\u001b[39m\u001b[39m=\u001b[39m\u001b[39mNone\u001b[39;00m, object_hook\u001b[39m=\u001b[39m\u001b[39mNone\u001b[39;00m, parse_float\u001b[39m=\u001b[39m\u001b[39mNone\u001b[39;00m,\n\u001b[0;32m    275\u001b[0m         parse_int\u001b[39m=\u001b[39m\u001b[39mNone\u001b[39;00m, parse_constant\u001b[39m=\u001b[39m\u001b[39mNone\u001b[39;00m, object_pairs_hook\u001b[39m=\u001b[39m\u001b[39mNone\u001b[39;00m, \u001b[39m*\u001b[39m\u001b[39m*\u001b[39mkw):\n\u001b[0;32m    276\u001b[0m \u001b[39m    \u001b[39m\u001b[39m\"\"\"Deserialize ``fp`` (a ``.read()``-supporting file-like object containing\u001b[39;00m\n\u001b[0;32m    277\u001b[0m \u001b[39m    a JSON document) to a Python object.\u001b[39;00m\n\u001b[0;32m    278\u001b[0m \n\u001b[1;32m   (...)\u001b[0m\n\u001b[0;32m    291\u001b[0m \u001b[39m    kwarg; otherwise ``JSONDecoder`` is used.\u001b[39;00m\n\u001b[0;32m    292\u001b[0m \u001b[39m    \"\"\"\u001b[39;00m\n\u001b[1;32m--> 293\u001b[0m     \u001b[39mreturn\u001b[39;00m loads(fp\u001b[39m.\u001b[39;49mread(),\n\u001b[0;32m    294\u001b[0m         \u001b[39mcls\u001b[39m\u001b[39m=\u001b[39m\u001b[39mcls\u001b[39m, object_hook\u001b[39m=\u001b[39mobject_hook,\n\u001b[0;32m    295\u001b[0m         parse_float\u001b[39m=\u001b[39mparse_float, parse_int\u001b[39m=\u001b[39mparse_int,\n\u001b[0;32m    296\u001b[0m         parse_constant\u001b[39m=\u001b[39mparse_constant, object_pairs_hook\u001b[39m=\u001b[39mobject_pairs_hook, \u001b[39m*\u001b[39m\u001b[39m*\u001b[39mkw)\n",
      "\u001b[1;31mAttributeError\u001b[0m: 'str' object has no attribute 'read'"
     ]
    }
   ],
   "source": [
    "test = json.load(\"my_favorites.csv\")"
   ]
  },
  {
   "cell_type": "code",
   "execution_count": 67,
   "metadata": {},
   "outputs": [
    {
     "name": "stdout",
     "output_type": "stream",
     "text": [
      "{'friend': 'Schniin', 'steamname': 'Pail', 'steamid': '76561198059254917', 'games': 'Warhammer: Vermintide 2'}\n",
      "{'friend': 'Nils', 'steamname': 'Smallboy_Slin', 'steamid': '76561197981033122', 'games': 'Deep Rock Galactic'}\n",
      "{'friend': 'Grady', 'steamname': '[WC] Scott Sterling', 'steamid': '76561198026715831', 'games': 'Sands of Salzaar'}\n",
      "{'friend': 'Chrisse', 'steamname': 'chrisse286', 'steamid': '76561198068931354', 'games': 'Dota 2'}\n"
     ]
    }
   ],
   "source": [
    "import csv\n",
    "data_dict = {}\n",
    "with open(\"my_favorites2.csv\", encoding = 'utf-8') as csv_file_handler:\n",
    "        csv_reader = csv.DictReader(csv_file_handler)\n",
    " \n",
    "        #convert each row into a dictionary\n",
    "        #and add the converted data to the data_variable\n",
    " \n",
    "        for rows in csv_reader:\n",
    "            print(rows)\n",
    "            #assuming a column named 'No'\n",
    "            #to be the primary key\n",
    "            key = rows['friend']\n",
    "            data_dict[key] = rows"
   ]
  },
  {
   "cell_type": "code",
   "execution_count": 68,
   "metadata": {},
   "outputs": [
    {
     "data": {
      "text/plain": [
       "{'Schniin': {'friend': 'Schniin',\n",
       "  'steamname': 'Pail',\n",
       "  'steamid': '76561198059254917',\n",
       "  'games': 'Warhammer: Vermintide 2'},\n",
       " 'Nils': {'friend': 'Nils',\n",
       "  'steamname': 'Smallboy_Slin',\n",
       "  'steamid': '76561197981033122',\n",
       "  'games': 'Deep Rock Galactic'},\n",
       " 'Grady': {'friend': 'Grady',\n",
       "  'steamname': '[WC] Scott Sterling',\n",
       "  'steamid': '76561198026715831',\n",
       "  'games': 'Sands of Salzaar'},\n",
       " 'Chrisse': {'friend': 'Chrisse',\n",
       "  'steamname': 'chrisse286',\n",
       "  'steamid': '76561198068931354',\n",
       "  'games': 'Dota 2'}}"
      ]
     },
     "execution_count": 68,
     "metadata": {},
     "output_type": "execute_result"
    }
   ],
   "source": [
    "data_dict"
   ]
  },
  {
   "cell_type": "code",
   "execution_count": 78,
   "metadata": {},
   "outputs": [
    {
     "data": {
      "text/html": [
       "<div>\n",
       "<style scoped>\n",
       "    .dataframe tbody tr th:only-of-type {\n",
       "        vertical-align: middle;\n",
       "    }\n",
       "\n",
       "    .dataframe tbody tr th {\n",
       "        vertical-align: top;\n",
       "    }\n",
       "\n",
       "    .dataframe thead th {\n",
       "        text-align: right;\n",
       "    }\n",
       "</style>\n",
       "<table border=\"1\" class=\"dataframe\">\n",
       "  <thead>\n",
       "    <tr style=\"text-align: right;\">\n",
       "      <th></th>\n",
       "      <th>friend</th>\n",
       "      <th>steamname</th>\n",
       "      <th>steamid</th>\n",
       "      <th>games</th>\n",
       "    </tr>\n",
       "  </thead>\n",
       "  <tbody>\n",
       "    <tr>\n",
       "      <th>0</th>\n",
       "      <td>Schniin</td>\n",
       "      <td>Pail</td>\n",
       "      <td>76561198059254917</td>\n",
       "      <td>Warhammer: Vermintide 2</td>\n",
       "    </tr>\n",
       "    <tr>\n",
       "      <th>1</th>\n",
       "      <td>Nils</td>\n",
       "      <td>Smallboy_Slin</td>\n",
       "      <td>76561197981033122</td>\n",
       "      <td>Deep Rock Galactic</td>\n",
       "    </tr>\n",
       "    <tr>\n",
       "      <th>2</th>\n",
       "      <td>Grady</td>\n",
       "      <td>[WC] Scott Sterling</td>\n",
       "      <td>76561198026715831</td>\n",
       "      <td>Sands of Salzaar</td>\n",
       "    </tr>\n",
       "    <tr>\n",
       "      <th>3</th>\n",
       "      <td>Chrisse</td>\n",
       "      <td>chrisse286</td>\n",
       "      <td>76561198068931354</td>\n",
       "      <td>Dota 2</td>\n",
       "    </tr>\n",
       "  </tbody>\n",
       "</table>\n",
       "</div>"
      ],
      "text/plain": [
       "    friend            steamname            steamid                    games\n",
       "0  Schniin                 Pail  76561198059254917  Warhammer: Vermintide 2\n",
       "1     Nils        Smallboy_Slin  76561197981033122       Deep Rock Galactic\n",
       "2    Grady  [WC] Scott Sterling  76561198026715831         Sands of Salzaar\n",
       "3  Chrisse           chrisse286  76561198068931354                   Dota 2"
      ]
     },
     "execution_count": 78,
     "metadata": {},
     "output_type": "execute_result"
    }
   ],
   "source": [
    "test= pd.DataFrame("
   ]
  },
  {
   "cell_type": "code",
   "execution_count": 82,
   "metadata": {},
   "outputs": [
    {
     "data": {
      "text/plain": [
       "[['Schniin', 'Pail', 76561198059254917, 'Warhammer: Vermintide 2, Test'],\n",
       " ['Nils', 'Smallboy_Slin', 76561197981033122, 'Deep Rock Galactic, SCUM'],\n",
       " ['Grady', '[WC] Scott Sterling', 76561198026715831, 'Sands of Salzaar'],\n",
       " ['Chrisse', 'chrisse286', 76561198068931354, 'Dota 2']]"
      ]
     },
     "execution_count": 82,
     "metadata": {},
     "output_type": "execute_result"
    }
   ],
   "source": [
    "pd.read_csv(\"my_favorites.csv\", delimiter=\";\").values.tolist()\n"
   ]
  },
  {
   "cell_type": "code",
   "execution_count": 86,
   "metadata": {},
   "outputs": [],
   "source": [
    "test = "
   ]
  },
  {
   "cell_type": "code",
   "execution_count": 87,
   "metadata": {},
   "outputs": [
    {
     "data": {
      "text/html": [
       "<div>\n",
       "<style scoped>\n",
       "    .dataframe tbody tr th:only-of-type {\n",
       "        vertical-align: middle;\n",
       "    }\n",
       "\n",
       "    .dataframe tbody tr th {\n",
       "        vertical-align: top;\n",
       "    }\n",
       "\n",
       "    .dataframe thead th {\n",
       "        text-align: right;\n",
       "    }\n",
       "</style>\n",
       "<table border=\"1\" class=\"dataframe\">\n",
       "  <thead>\n",
       "    <tr style=\"text-align: right;\">\n",
       "      <th></th>\n",
       "      <th>friend</th>\n",
       "      <th>steamname</th>\n",
       "      <th>steamid</th>\n",
       "      <th>games</th>\n",
       "    </tr>\n",
       "  </thead>\n",
       "  <tbody>\n",
       "    <tr>\n",
       "      <th>0</th>\n",
       "      <td>True</td>\n",
       "      <td>True</td>\n",
       "      <td>True</td>\n",
       "      <td>True</td>\n",
       "    </tr>\n",
       "    <tr>\n",
       "      <th>1</th>\n",
       "      <td>True</td>\n",
       "      <td>True</td>\n",
       "      <td>True</td>\n",
       "      <td>True</td>\n",
       "    </tr>\n",
       "    <tr>\n",
       "      <th>2</th>\n",
       "      <td>True</td>\n",
       "      <td>True</td>\n",
       "      <td>True</td>\n",
       "      <td>True</td>\n",
       "    </tr>\n",
       "    <tr>\n",
       "      <th>3</th>\n",
       "      <td>True</td>\n",
       "      <td>True</td>\n",
       "      <td>True</td>\n",
       "      <td>True</td>\n",
       "    </tr>\n",
       "  </tbody>\n",
       "</table>\n",
       "</div>"
      ],
      "text/plain": [
       "   friend  steamname  steamid  games\n",
       "0    True       True     True   True\n",
       "1    True       True     True   True\n",
       "2    True       True     True   True\n",
       "3    True       True     True   True"
      ]
     },
     "execution_count": 87,
     "metadata": {},
     "output_type": "execute_result"
    }
   ],
   "source": [
    "pd.read_csv(\"my_favorites.csv\", delimiter=\";\") == test"
   ]
  },
  {
   "cell_type": "code",
   "execution_count": null,
   "metadata": {},
   "outputs": [],
   "source": []
  }
 ],
 "metadata": {
  "kernelspec": {
   "display_name": ".venv",
   "language": "python",
   "name": "python3"
  },
  "language_info": {
   "codemirror_mode": {
    "name": "ipython",
    "version": 3
   },
   "file_extension": ".py",
   "mimetype": "text/x-python",
   "name": "python",
   "nbconvert_exporter": "python",
   "pygments_lexer": "ipython3",
   "version": "3.11.1"
  },
  "orig_nbformat": 4,
  "vscode": {
   "interpreter": {
    "hash": "65bdf27253ab9bf5f574208876c3700780af6134bc85b4ba574367d178be659f"
   }
  }
 },
 "nbformat": 4,
 "nbformat_minor": 2
}
