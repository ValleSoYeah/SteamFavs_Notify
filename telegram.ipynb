{
 "cells": [
  {
   "cell_type": "code",
   "execution_count": 1,
   "metadata": {},
   "outputs": [],
   "source": [
    "from credentials import my_bot_token, my_telegram_id\n",
    "from urllib.request import urlopen\n",
    "import json"
   ]
  },
  {
   "cell_type": "code",
   "execution_count": 2,
   "metadata": {},
   "outputs": [
    {
     "data": {
      "text/plain": [
       "{'ok': True,\n",
       " 'result': {'id': 5924291011,\n",
       "  'is_bot': True,\n",
       "  'first_name': 'SteamFavs-Notifier',\n",
       "  'username': 'SteamFavs_Bot',\n",
       "  'can_join_groups': True,\n",
       "  'can_read_all_group_messages': False,\n",
       "  'supports_inline_queries': False}}"
      ]
     },
     "execution_count": 2,
     "metadata": {},
     "output_type": "execute_result"
    }
   ],
   "source": [
    "getMe_URL = f\"https://api.telegram.org/bot{my_bot_token}/getMe\"\n",
    "file = urlopen(getMe_URL)\n",
    "content = file.read().decode('utf-8')\n",
    "bot_info = json.loads(content)\n",
    "bot_info\n"
   ]
  },
  {
   "cell_type": "code",
   "execution_count": 3,
   "metadata": {},
   "outputs": [
    {
     "name": "stdout",
     "output_type": "stream",
     "text": [
      "{'ok': True, 'result': [{'update_id': 789144337, 'message': {'message_id': 2, 'from': {'id': 108811623, 'is_bot': False, 'first_name': 'Valle', 'last_name': 'So Yeah!', 'username': 'UndValleSoYeah', 'language_code': 'de'}, 'chat': {'id': 108811623, 'first_name': 'Valle', 'last_name': 'So Yeah!', 'username': 'UndValleSoYeah', 'type': 'private'}, 'date': 1674044467, 'text': 'Hi'}}, {'update_id': 789144338, 'message': {'message_id': 3, 'from': {'id': 108811623, 'is_bot': False, 'first_name': 'Valle', 'last_name': 'So Yeah!', 'username': 'UndValleSoYeah', 'language_code': 'de'}, 'chat': {'id': 108811623, 'first_name': 'Valle', 'last_name': 'So Yeah!', 'username': 'UndValleSoYeah', 'type': 'private'}, 'date': 1674044641, 'text': 'Testes'}}]}\n"
     ]
    }
   ],
   "source": [
    "import requests\n",
    "TOKEN = \"YOUR TELEGRAM BOT TOKEN\"\n",
    "url = f\"https://api.telegram.org/bot{my_bot_token}/getUpdates\"\n",
    "print(requests.get(url).json())"
   ]
  },
  {
   "cell_type": "code",
   "execution_count": 7,
   "metadata": {},
   "outputs": [
    {
     "data": {
      "text/plain": [
       "<Response [200]>"
      ]
     },
     "execution_count": 7,
     "metadata": {},
     "output_type": "execute_result"
    }
   ],
   "source": [
    "requests.get(url)"
   ]
  },
  {
   "cell_type": "code",
   "execution_count": null,
   "metadata": {},
   "outputs": [],
   "source": []
  }
 ],
 "metadata": {
  "kernelspec": {
   "display_name": ".venv",
   "language": "python",
   "name": "python3"
  },
  "language_info": {
   "codemirror_mode": {
    "name": "ipython",
    "version": 3
   },
   "file_extension": ".py",
   "mimetype": "text/x-python",
   "name": "python",
   "nbconvert_exporter": "python",
   "pygments_lexer": "ipython3",
   "version": "3.11.1"
  },
  "orig_nbformat": 4,
  "vscode": {
   "interpreter": {
    "hash": "65bdf27253ab9bf5f574208876c3700780af6134bc85b4ba574367d178be659f"
   }
  }
 },
 "nbformat": 4,
 "nbformat_minor": 2
}
